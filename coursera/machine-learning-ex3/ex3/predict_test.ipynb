{
 "cells": [
  {
   "cell_type": "code",
   "execution_count": 203,
   "id": "outside-ethics",
   "metadata": {},
   "outputs": [],
   "source": [
    "import numpy as np\n",
    "import math\n",
    "import scipy.io as sio\n"
   ]
  },
  {
   "cell_type": "code",
   "execution_count": 204,
   "id": "surface-serum",
   "metadata": {},
   "outputs": [],
   "source": [
    "def sigmoid(x):\n",
    "  return 1 / (1 + math.exp(-x))"
   ]
  },
  {
   "cell_type": "code",
   "execution_count": 205,
   "id": "fixed-commissioner",
   "metadata": {},
   "outputs": [
    {
     "data": {
      "text/plain": [
       "array([[ 0,  1,  2,  3,  4],\n",
       "       [ 5,  6,  7,  8,  9],\n",
       "       [10, 11, 12, 13, 14]])"
      ]
     },
     "execution_count": 205,
     "metadata": {},
     "output_type": "execute_result"
    }
   ],
   "source": [
    "a = np.arange(15).reshape(3, 5)\n",
    "a"
   ]
  },
  {
   "cell_type": "code",
   "execution_count": 206,
   "id": "musical-adelaide",
   "metadata": {},
   "outputs": [],
   "source": [
    "d = {}\n",
    "mat = sio.loadmat(\"ex3data1.mat\")"
   ]
  },
  {
   "cell_type": "code",
   "execution_count": 207,
   "id": "moving-party",
   "metadata": {},
   "outputs": [],
   "source": [
    "X = mat['X']"
   ]
  },
  {
   "cell_type": "code",
   "execution_count": 224,
   "id": "altered-package",
   "metadata": {},
   "outputs": [
    {
     "data": {
      "text/plain": [
       "{'__header__': b'MATLAB 5.0 MAT-file, Platform: GLNXA64, Created on: Sun Oct 16 13:09:09 2011',\n",
       " '__version__': '1.0',\n",
       " '__globals__': [],\n",
       " 'X': array([[0., 0., 0., ..., 0., 0., 0.],\n",
       "        [0., 0., 0., ..., 0., 0., 0.],\n",
       "        [0., 0., 0., ..., 0., 0., 0.],\n",
       "        ...,\n",
       "        [0., 0., 0., ..., 0., 0., 0.],\n",
       "        [0., 0., 0., ..., 0., 0., 0.],\n",
       "        [0., 0., 0., ..., 0., 0., 0.]]),\n",
       " 'y': array([[10],\n",
       "        [10],\n",
       "        [10],\n",
       "        ...,\n",
       "        [ 9],\n",
       "        [ 9],\n",
       "        [ 9]], dtype=uint8)}"
      ]
     },
     "execution_count": 224,
     "metadata": {},
     "output_type": "execute_result"
    }
   ],
   "source": [
    "mat"
   ]
  },
  {
   "cell_type": "code",
   "execution_count": 208,
   "id": "hollow-administrator",
   "metadata": {},
   "outputs": [
    {
     "data": {
      "text/plain": [
       "(5000, 400)"
      ]
     },
     "execution_count": 208,
     "metadata": {},
     "output_type": "execute_result"
    }
   ],
   "source": [
    "X.shape"
   ]
  },
  {
   "cell_type": "code",
   "execution_count": 209,
   "id": "smart-theory",
   "metadata": {},
   "outputs": [],
   "source": [
    "y = mat['y']"
   ]
  },
  {
   "cell_type": "code",
   "execution_count": 210,
   "id": "forward-starter",
   "metadata": {},
   "outputs": [
    {
     "data": {
      "text/plain": [
       "(5000, 1)"
      ]
     },
     "execution_count": 210,
     "metadata": {},
     "output_type": "execute_result"
    }
   ],
   "source": [
    "y.shape"
   ]
  },
  {
   "cell_type": "code",
   "execution_count": 211,
   "id": "major-picture",
   "metadata": {},
   "outputs": [
    {
     "data": {
      "text/plain": [
       "[0.8414709848078965,\n",
       " 0.9092974268256817,\n",
       " 0.1411200080598672,\n",
       " -0.7568024953079282,\n",
       " -0.9589242746631385,\n",
       " -0.27941549819892586,\n",
       " 0.6569865987187891,\n",
       " 0.9893582466233818,\n",
       " 0.4121184852417566,\n",
       " -0.5440211108893699,\n",
       " -0.9999902065507035,\n",
       " -0.5365729180004349,\n",
       " 0.4201670368266409,\n",
       " 0.9906073556948704,\n",
       " 0.6502878401571169,\n",
       " -0.2879033166650653]"
      ]
     },
     "execution_count": 211,
     "metadata": {},
     "output_type": "execute_result"
    }
   ],
   "source": [
    "lst=[math.sin(i) for i in range(1,17)]\n",
    "lst"
   ]
  },
  {
   "cell_type": "code",
   "execution_count": 212,
   "id": "opened-football",
   "metadata": {},
   "outputs": [],
   "source": [
    "X = np.array([math.sin(i) for i in range(1,17)]).reshape((8, 2), order='F')"
   ]
  },
  {
   "cell_type": "code",
   "execution_count": 213,
   "id": "collaborative-tobacco",
   "metadata": {},
   "outputs": [
    {
     "data": {
      "text/plain": [
       "(8, 2)"
      ]
     },
     "execution_count": 213,
     "metadata": {},
     "output_type": "execute_result"
    }
   ],
   "source": [
    "X.shape"
   ]
  },
  {
   "cell_type": "markdown",
   "id": "motivated-potential",
   "metadata": {},
   "source": [
    "Fill columns first"
   ]
  },
  {
   "cell_type": "code",
   "execution_count": 214,
   "id": "suburban-aberdeen",
   "metadata": {},
   "outputs": [],
   "source": [
    "Theta1 = np.array([math.sin(x) for x in np.linspace(0,5.5,12)]).reshape((4, 3), order='F')"
   ]
  },
  {
   "cell_type": "code",
   "execution_count": 215,
   "id": "complicated-barrel",
   "metadata": {},
   "outputs": [
    {
     "data": {
      "text/plain": [
       "array([[ 0.        ,  0.90929743, -0.7568025 ],\n",
       "       [ 0.47942554,  0.59847214, -0.97753012],\n",
       "       [ 0.84147098,  0.14112001, -0.95892427],\n",
       "       [ 0.99749499, -0.35078323, -0.70554033]])"
      ]
     },
     "execution_count": 215,
     "metadata": {},
     "output_type": "execute_result"
    }
   ],
   "source": [
    "Theta1"
   ]
  },
  {
   "cell_type": "code",
   "execution_count": 216,
   "id": "killing-oracle",
   "metadata": {},
   "outputs": [],
   "source": [
    "Theta2 = np.array([math.sin(x) for x in np.linspace(0,5.7,20)]).reshape((4, 5), order='F')"
   ]
  },
  {
   "cell_type": "code",
   "execution_count": 217,
   "id": "optical-killer",
   "metadata": {},
   "outputs": [
    {
     "data": {
      "text/plain": [
       "array([[ 0.        ,  0.93203909,  0.67546318, -0.44252044, -0.99616461],\n",
       "       [ 0.29552021,  0.99749499,  0.42737988, -0.68776616, -0.92581468],\n",
       "       [ 0.56464247,  0.97384763,  0.14112001, -0.87157577, -0.77276449],\n",
       "       [ 0.78332691,  0.86320937, -0.15774569, -0.97753012, -0.55068554]])"
      ]
     },
     "execution_count": 217,
     "metadata": {},
     "output_type": "execute_result"
    }
   ],
   "source": [
    "Theta2"
   ]
  },
  {
   "cell_type": "code",
   "execution_count": 218,
   "id": "printable-defense",
   "metadata": {},
   "outputs": [
    {
     "data": {
      "text/plain": [
       "array([[ 0.84147098,  0.41211849],\n",
       "       [ 0.90929743, -0.54402111],\n",
       "       [ 0.14112001, -0.99999021],\n",
       "       [-0.7568025 , -0.53657292],\n",
       "       [-0.95892427,  0.42016704],\n",
       "       [-0.2794155 ,  0.99060736],\n",
       "       [ 0.6569866 ,  0.65028784],\n",
       "       [ 0.98935825, -0.28790332]])"
      ]
     },
     "execution_count": 218,
     "metadata": {},
     "output_type": "execute_result"
    }
   ],
   "source": [
    "X"
   ]
  },
  {
   "cell_type": "code",
   "execution_count": 219,
   "id": "sonic-soviet",
   "metadata": {},
   "outputs": [
    {
     "data": {
      "text/plain": [
       "array([[ 1.        ,  0.84147098,  0.41211849],\n",
       "       [ 1.        ,  0.90929743, -0.54402111],\n",
       "       [ 1.        ,  0.14112001, -0.99999021],\n",
       "       [ 1.        , -0.7568025 , -0.53657292],\n",
       "       [ 1.        , -0.95892427,  0.42016704],\n",
       "       [ 1.        , -0.2794155 ,  0.99060736],\n",
       "       [ 1.        ,  0.6569866 ,  0.65028784],\n",
       "       [ 1.        ,  0.98935825, -0.28790332]])"
      ]
     },
     "execution_count": 219,
     "metadata": {},
     "output_type": "execute_result"
    }
   ],
   "source": [
    "np.insert(X, 0, 1, axis=1)"
   ]
  },
  {
   "cell_type": "code",
   "execution_count": 220,
   "id": "hourly-depression",
   "metadata": {},
   "outputs": [
    {
     "data": {
      "text/plain": [
       "array([[ 0.        ,  0.93203909,  0.67546318, -0.44252044, -0.99616461],\n",
       "       [ 0.29552021,  0.99749499,  0.42737988, -0.68776616, -0.92581468],\n",
       "       [ 0.56464247,  0.97384763,  0.14112001, -0.87157577, -0.77276449],\n",
       "       [ 0.78332691,  0.86320937, -0.15774569, -0.97753012, -0.55068554]])"
      ]
     },
     "execution_count": 220,
     "metadata": {},
     "output_type": "execute_result"
    }
   ],
   "source": [
    "Theta2"
   ]
  },
  {
   "cell_type": "code",
   "execution_count": 221,
   "id": "coupled-province",
   "metadata": {},
   "outputs": [],
   "source": [
    "vectorized_sigmoid = np.vectorize(sigmoid)\n"
   ]
  },
  {
   "cell_type": "code",
   "execution_count": 222,
   "id": "third-brush",
   "metadata": {},
   "outputs": [],
   "source": [
    "def predict(theta1, theta2, X):\n",
    "    m = X.size\n",
    "    print(f\"theta1.shape={theta1.shape}\")\n",
    "    print(f\"theta1=\\n{theta1}\")\n",
    "    \n",
    "    print(f\"theta2.shape={theta2.shape}\")\n",
    "    print(f\"theta2=\\n{theta2}\")\n",
    "\n",
    "\n",
    "    num_rows, num_cols = X.shape\n",
    "    print(f\"Size={num_rows}\")\n",
    "    a1 = np.insert(X, 0, 1, axis=1)\n",
    "    print(f\"X={a1}\")\n",
    "    z2 = np.matmul(a1, np.transpose(Theta1))\n",
    "    print(f\"z2={z2}\")\n",
    "    a2 = vectorized_sigmoid(z2)\n",
    "    \n",
    "    a2.shape\n",
    "    print(f\"a2.shape={a2.shape}\")\n",
    "\n",
    "    print(f\"a2={a2}\")\n",
    "    a2 = np.insert(a2, 0, 1, axis=1)\n",
    "    print(f\"a2={a2}\")\n",
    "\n",
    "    a3 = np.matmul(a2, np.transpose(Theta2))\n",
    "    print(f\"a3={a3}\")\n",
    "    \n",
    "    a3 = vectorized_sigmoid(a3)\n",
    "    print(f\"sigmoid(a3)=\\n{a3}\")\n",
    "\n",
    "    p = a3.argmax(axis=1)\n",
    "    p = p + 1\n",
    "    print(f\"p={p}\")\n",
    "#     z3 = np.array(map(sigmoid, z2))\n",
    "#     print(f\"z3={z4}\")"
   ]
  },
  {
   "cell_type": "code",
   "execution_count": 223,
   "id": "saving-highlight",
   "metadata": {},
   "outputs": [
    {
     "name": "stdout",
     "output_type": "stream",
     "text": [
      "theta1.shape=(4, 3)\n",
      "theta1=\n",
      "[[ 0.          0.90929743 -0.7568025 ]\n",
      " [ 0.47942554  0.59847214 -0.97753012]\n",
      " [ 0.84147098  0.14112001 -0.95892427]\n",
      " [ 0.99749499 -0.35078323 -0.70554033]]\n",
      "theta2.shape=(4, 5)\n",
      "theta2=\n",
      "[[ 0.          0.93203909  0.67546318 -0.44252044 -0.99616461]\n",
      " [ 0.29552021  0.99749499  0.42737988 -0.68776616 -0.92581468]\n",
      " [ 0.56464247  0.97384763  0.14112001 -0.87157577 -0.77276449]\n",
      " [ 0.78332691  0.86320937 -0.15774569 -0.97753012 -0.55068554]]\n",
      "Size=8\n",
      "X=[[ 1.          0.84147098  0.41211849]\n",
      " [ 1.          0.90929743 -0.54402111]\n",
      " [ 1.          0.14112001 -0.99999021]\n",
      " [ 1.         -0.7568025  -0.53657292]\n",
      " [ 1.         -0.95892427  0.42016704]\n",
      " [ 1.         -0.2794155   0.99060736]\n",
      " [ 1.          0.6569866   0.65028784]\n",
      " [ 1.          0.98935825 -0.28790332]]\n",
      "z2=[[ 0.4532551   0.58016425  0.56502896  0.41155487]\n",
      " [ 1.23853834  1.55541174  1.49146609  1.06235753]\n",
      " [ 0.88511514  1.54140248  1.82030072  1.65352587]\n",
      " [-0.28207884  0.55101651  1.24920381  1.64154244]\n",
      " [-1.18993084 -0.50518986  0.30323921  1.03742475]\n",
      " [-1.00376591 -0.65614538 -0.14787757  0.39659582]\n",
      " [ 0.10525676  0.23693777  0.31060814  0.30823081]\n",
      " [ 1.11750686  1.35296305  1.25716671  0.85357211]]\n",
      "a2.shape=(8, 4)\n",
      "a2=[[0.61141288 0.6411052  0.63761534 0.60146065]\n",
      " [0.77530949 0.82569398 0.81629822 0.74314081]\n",
      " [0.70788108 0.82366851 0.86060221 0.83936701]\n",
      " [0.4299442  0.6343714  0.77716201 0.83774471]\n",
      " [0.23327131 0.37632181 0.57523418 0.7383528 ]\n",
      " [0.26820164 0.34160603 0.46309783 0.5978695 ]\n",
      " [0.52628992 0.55895887 0.5770337  0.57645336]\n",
      " [0.75352597 0.79461363 0.77853799 0.70131594]]\n",
      "a2=[[1.         0.61141288 0.6411052  0.63761534 0.60146065]\n",
      " [1.         0.77530949 0.82569398 0.81629822 0.74314081]\n",
      " [1.         0.70788108 0.82366851 0.86060221 0.83936701]\n",
      " [1.         0.4299442  0.6343714  0.77716201 0.83774471]\n",
      " [1.         0.23327131 0.37632181 0.57523418 0.7383528 ]\n",
      " [1.         0.26820164 0.34160603 0.46309783 0.5978695 ]\n",
      " [1.         0.52628992 0.55895887 0.5770337  0.57645336]\n",
      " [1.         0.75352597 0.79461363 0.77853799 0.70131594]]\n",
      "a3=[[ 0.12159203  0.1840256   0.23002072  0.25546877]\n",
      " [ 0.1788254   0.17233956  0.15045914  0.11513865]\n",
      " [-0.00085119 -0.01534399 -0.02846616 -0.03904553]\n",
      " [-0.34922239 -0.31459712 -0.25186983 -0.16664376]\n",
      " [-0.51846431 -0.39016493 -0.22701328 -0.04358321]\n",
      " [-0.31978998 -0.16297383  0.00840029  0.17902404]\n",
      " [ 0.03848727  0.12882631  0.20765767  0.2679396 ]\n",
      " [ 0.19590282  0.20201979  0.19009094  0.16118183]]\n",
      "sigmoid(a3)=\n",
      "[[0.53036061 0.545877   0.55725297 0.56352209]\n",
      " [0.54458759 0.54297857 0.53754398 0.52875291]\n",
      " [0.4997872  0.49616408 0.49288394 0.49023986]\n",
      " [0.413571   0.42199303 0.43736332 0.4584352 ]\n",
      " [0.3732114  0.4036776  0.44348916 0.48910592]\n",
      " [0.42072693 0.45934648 0.50210006 0.54463686]\n",
      " [0.50962063 0.53216211 0.55172867 0.56658701]\n",
      " [0.54881967 0.55033388 0.54738015 0.54020845]]\n",
      "p=[4 1 1 4 4 4 4 2]\n"
     ]
    }
   ],
   "source": [
    "predict(Theta1,Theta2,X)"
   ]
  },
  {
   "cell_type": "code",
   "execution_count": null,
   "id": "complex-garlic",
   "metadata": {},
   "outputs": [],
   "source": []
  },
  {
   "cell_type": "code",
   "execution_count": null,
   "id": "finite-guess",
   "metadata": {},
   "outputs": [],
   "source": []
  }
 ],
 "metadata": {
  "kernelspec": {
   "display_name": "Python 3",
   "language": "python",
   "name": "python3"
  },
  "language_info": {
   "codemirror_mode": {
    "name": "ipython",
    "version": 3
   },
   "file_extension": ".py",
   "mimetype": "text/x-python",
   "name": "python",
   "nbconvert_exporter": "python",
   "pygments_lexer": "ipython3",
   "version": "3.8.8"
  }
 },
 "nbformat": 4,
 "nbformat_minor": 5
}
